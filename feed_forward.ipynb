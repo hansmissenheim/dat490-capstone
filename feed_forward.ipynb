{
 "cells": [
  {
   "cell_type": "code",
   "execution_count": null,
   "metadata": {},
   "outputs": [],
   "source": [
    "import model_functions as mf\n",
    "\n",
    "import pandas as pd\n",
    "from keras_tuner.tuners import RandomSearch\n",
    "from tensorflow import keras\n",
    "from tensorflow.keras.callbacks import TensorBoard\n",
    "\n",
    "\n",
    "PBP_DF = pd.read_csv(\"data/play_by_play_parsed.csv\")"
   ]
  },
  {
   "cell_type": "code",
   "execution_count": null,
   "metadata": {},
   "outputs": [],
   "source": [
    "def build_model(hidden_layers: int, layer_nodes: int, activation: str, dropout: bool, learning_rate: float):\n",
    "    model = keras.Sequential()\n",
    "\n",
    "    for _ in range(hidden_layers):\n",
    "        model.add(keras.layers.Dense(\n",
    "            units=layer_nodes,\n",
    "            activation=activation,\n",
    "        ))\n",
    "        if dropout:\n",
    "            model.add(keras.layers.Dropout(rate=0.20))\n",
    "    model.add(keras.layers.Dense(\n",
    "        units=1,\n",
    "        activation='sigmoid'\n",
    "    ))\n",
    "    model.compile(\n",
    "        optimizer=keras.optimizers.Adam(learning_rate=learning_rate),\n",
    "        loss='binary_crossentropy',\n",
    "        metrics=['accuracy']\n",
    "    )\n",
    "    return model"
   ]
  },
  {
   "cell_type": "code",
   "execution_count": null,
   "metadata": {},
   "outputs": [],
   "source": [
    "(train_X, train_y), (test_X, test_y) = mf.split_data(PBP_DF, balance=True, id_info=False, normalize=True, standardize=True)"
   ]
  },
  {
   "cell_type": "code",
   "execution_count": null,
   "metadata": {},
   "outputs": [],
   "source": [
    "trials = [\n",
    "    [6, 3, 32, \"tanh\", False, 0.000631579],\n",
    "    [63, 3, 256, \"relu\", True, 0.00018857],\n",
    "    [7, 3, 256, \"relu\", False, 0.000308675],\n",
    "    [68, 3, 32, \"relu\", False, 0.000740252],\n",
    "    [29, 3, 128, \"tanh\", False, 0.000714723],\n",
    "    [4, 2, 256, \"relu\", True, 0.000314922],\n",
    "    [22, 2, 256, \"tanh\", False, 0.000742564],\n",
    "    [57, 3, 32, \"relu\", False, 0.001560377],\n",
    "    [55, 2, 128, \"relu\", False, 0.000898488],\n",
    "    [48, 1, 256, \"relu\", True, 0.000745962],\n",
    "    [37, 2, 32, \"relu\", False, 0.000168035],\n",
    "    [51, 3, 8, \"tanh\", False, 0.000804969],\n",
    "    [54, 2, 128, \"relu\", False, 0.003374956],\n",
    "    [11, 1, 32, \"relu\", True, 0.000124955],\n",
    "    [15, 1, 128, \"tanh\", False, 0.001768874],\n",
    "    [35, 2, 256, \"tanh\", False, 0.002197915],\n",
    "    [60, 3, 32, \"relu\", True, 0.001227368],\n",
    "]\n",
    "\n",
    "models = {}\n",
    "for trial in trials:\n",
    "    name = f\"{trial[0]}.5_HL-{trial[1]}_LN-{trial[2]}_{trial[3]}_{trial[4]}_LR-{trial[5]}\"\n",
    "    model = build_model(\n",
    "        trial[1],\n",
    "        trial[2],\n",
    "        trial[3],\n",
    "        trial[4],\n",
    "        trial[5],\n",
    "    )\n",
    "    model.fit(train_X, train_y, validation_data=(test_X, test_y), batch_size=32, epochs=200, callbacks=[TensorBoard(f\"logs/5-TTT/{name}\")] )\n",
    "    models[trial[0]] = model\n",
    "    model.save(f\"models/5-TTT-{trial[0]}.h5\")"
   ]
  },
  {
   "cell_type": "code",
   "execution_count": null,
   "metadata": {},
   "outputs": [],
   "source": [
    "model = keras.models.load_model(\"models/5-TTT-11.h5\")\n",
    "name = \"11.5_HL-1_LN-32_relu_True_LR-0.000124955\"\n",
    "model.fit(train_X, train_y, validation_data=(test_X, test_y), batch_size=32, initial_epoch=203, epochs=300, callbacks=[TensorBoard(f\"logs/5-TTT/{name}\")] )"
   ]
  }
 ],
 "metadata": {
  "kernelspec": {
   "display_name": "tensorflow-gpu",
   "language": "python",
   "name": "python3"
  },
  "language_info": {
   "codemirror_mode": {
    "name": "ipython",
    "version": 3
   },
   "file_extension": ".py",
   "mimetype": "text/x-python",
   "name": "python",
   "nbconvert_exporter": "python",
   "pygments_lexer": "ipython3",
   "version": "3.8.19"
  }
 },
 "nbformat": 4,
 "nbformat_minor": 2
}
