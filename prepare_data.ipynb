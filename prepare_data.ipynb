{
    "cells": [
        {
            "cell_type": "code",
            "execution_count": 1,
            "metadata": {},
            "outputs": [],
            "source": [
                "import pathlib\n",
                "import pandas as pd"
            ]
        },
        {
            "cell_type": "code",
            "execution_count": 2,
            "metadata": {},
            "outputs": [
                {
                    "data": {
                        "text/plain": [
                            "(1148717, 372)"
                        ]
                    },
                    "execution_count": 2,
                    "metadata": {},
                    "output_type": "execute_result"
                }
            ],
            "source": [
                "data_path = pathlib.Path().absolute() / \"data\"\n",
                "pbp_data = data_path.glob(\"play_by_play_*.csv\")\n",
                "pbp_df = pd.concat(map(pd.read_csv, pbp_data))\n",
                "pbp_df.shape"
            ]
        },
        {
            "cell_type": "code",
            "execution_count": 3,
            "metadata": {},
            "outputs": [
                {
                    "data": {
                        "text/plain": [
                            "(803966, 372)"
                        ]
                    },
                    "execution_count": 3,
                    "metadata": {},
                    "output_type": "execute_result"
                }
            ],
            "source": [
                "mask = pbp_df[\"play_type\"].isin([\"pass\", \"run\"])\n",
                "pbp_df = pbp_df.loc[mask]\n",
                "pbp_df.shape"
            ]
        },
        {
            "cell_type": "code",
            "execution_count": 4,
            "metadata": {},
            "outputs": [
                {
                    "data": {
                        "text/plain": [
                            "coach\n",
                            "Bill Belichick      26796\n",
                            "Andy Reid           26420\n",
                            "Mike McCarthy       17572\n",
                            "Mike Tomlin         17392\n",
                            "Jeff Fisher         17375\n",
                            "                    ...  \n",
                            "Perry Fewell          383\n",
                            "Mel Tucker            302\n",
                            "Eric Studesville      250\n",
                            "Emmitt Thomas         217\n",
                            "Jay Rosburg           128\n",
                            "Name: count, Length: 158, dtype: int64"
                        ]
                    },
                    "execution_count": 4,
                    "metadata": {},
                    "output_type": "execute_result"
                }
            ],
            "source": [
                "def coach_from_posteam(row):\n",
                "    if row['posteam'] == row['home_team']:\n",
                "        return row['home_coach']\n",
                "    elif row['posteam'] == row['away_team']:\n",
                "        return row['away_coach']\n",
                "    raise ValueError(\"'posteam' not equal to 'home_team' or 'away_team'.\")\n",
                "\n",
                "pbp_df['coach'] = pbp_df.apply(coach_from_posteam, axis=1)\n",
                "pbp_df['coach'].value_counts()"
            ]
        },
        {
            "cell_type": "code",
            "execution_count": 6,
            "metadata": {},
            "outputs": [
                {
                    "data": {
                        "text/plain": [
                            "(803966, 374)"
                        ]
                    },
                    "execution_count": 6,
                    "metadata": {},
                    "output_type": "execute_result"
                }
            ],
            "source": [
                "pbp_df[\"play_in_drive\"] = pbp_df.groupby([\"game_id\", \"drive\"]).cumcount() + 1\n",
                "pbp_df.shape"
            ]
        },
        {
            "cell_type": "code",
            "execution_count": 8,
            "metadata": {},
            "outputs": [
                {
                    "data": {
                        "text/html": [
                            "<div>\n",
                            "<style scoped>\n",
                            "    .dataframe tbody tr th:only-of-type {\n",
                            "        vertical-align: middle;\n",
                            "    }\n",
                            "\n",
                            "    .dataframe tbody tr th {\n",
                            "        vertical-align: top;\n",
                            "    }\n",
                            "\n",
                            "    .dataframe thead th {\n",
                            "        text-align: right;\n",
                            "    }\n",
                            "</style>\n",
                            "<table border=\"1\" class=\"dataframe\">\n",
                            "  <thead>\n",
                            "    <tr style=\"text-align: right;\">\n",
                            "      <th></th>\n",
                            "      <th>play_type</th>\n",
                            "      <th>posteam</th>\n",
                            "      <th>coach</th>\n",
                            "      <th>drive</th>\n",
                            "      <th>play_in_drive</th>\n",
                            "      <th>qtr</th>\n",
                            "      <th>quarter_seconds_remaining</th>\n",
                            "      <th>down</th>\n",
                            "      <th>ydstogo</th>\n",
                            "      <th>yardline_100</th>\n",
                            "      <th>shotgun</th>\n",
                            "      <th>no_huddle</th>\n",
                            "      <th>score_differential</th>\n",
                            "      <th>spread_line</th>\n",
                            "      <th>season</th>\n",
                            "    </tr>\n",
                            "  </thead>\n",
                            "  <tbody>\n",
                            "    <tr>\n",
                            "      <th>1</th>\n",
                            "      <td>pass</td>\n",
                            "      <td>PHI</td>\n",
                            "      <td>Andy Reid</td>\n",
                            "      <td>1.0</td>\n",
                            "      <td>1.0</td>\n",
                            "      <td>1</td>\n",
                            "      <td>900.0</td>\n",
                            "      <td>1.0</td>\n",
                            "      <td>10</td>\n",
                            "      <td>77.0</td>\n",
                            "      <td>0</td>\n",
                            "      <td>0</td>\n",
                            "      <td>0.0</td>\n",
                            "      <td>-3.0</td>\n",
                            "      <td>1999</td>\n",
                            "    </tr>\n",
                            "    <tr>\n",
                            "      <th>2</th>\n",
                            "      <td>run</td>\n",
                            "      <td>PHI</td>\n",
                            "      <td>Andy Reid</td>\n",
                            "      <td>1.0</td>\n",
                            "      <td>2.0</td>\n",
                            "      <td>1</td>\n",
                            "      <td>900.0</td>\n",
                            "      <td>2.0</td>\n",
                            "      <td>10</td>\n",
                            "      <td>77.0</td>\n",
                            "      <td>0</td>\n",
                            "      <td>0</td>\n",
                            "      <td>0.0</td>\n",
                            "      <td>-3.0</td>\n",
                            "      <td>1999</td>\n",
                            "    </tr>\n",
                            "    <tr>\n",
                            "      <th>4</th>\n",
                            "      <td>pass</td>\n",
                            "      <td>PHI</td>\n",
                            "      <td>Andy Reid</td>\n",
                            "      <td>1.0</td>\n",
                            "      <td>3.0</td>\n",
                            "      <td>1</td>\n",
                            "      <td>900.0</td>\n",
                            "      <td>3.0</td>\n",
                            "      <td>14</td>\n",
                            "      <td>81.0</td>\n",
                            "      <td>0</td>\n",
                            "      <td>0</td>\n",
                            "      <td>0.0</td>\n",
                            "      <td>-3.0</td>\n",
                            "      <td>1999</td>\n",
                            "    </tr>\n",
                            "    <tr>\n",
                            "      <th>6</th>\n",
                            "      <td>run</td>\n",
                            "      <td>ARI</td>\n",
                            "      <td>Vince Tobin</td>\n",
                            "      <td>2.0</td>\n",
                            "      <td>1.0</td>\n",
                            "      <td>1</td>\n",
                            "      <td>787.0</td>\n",
                            "      <td>1.0</td>\n",
                            "      <td>10</td>\n",
                            "      <td>81.0</td>\n",
                            "      <td>0</td>\n",
                            "      <td>0</td>\n",
                            "      <td>0.0</td>\n",
                            "      <td>-3.0</td>\n",
                            "      <td>1999</td>\n",
                            "    </tr>\n",
                            "    <tr>\n",
                            "      <th>7</th>\n",
                            "      <td>run</td>\n",
                            "      <td>ARI</td>\n",
                            "      <td>Vince Tobin</td>\n",
                            "      <td>2.0</td>\n",
                            "      <td>2.0</td>\n",
                            "      <td>1</td>\n",
                            "      <td>787.0</td>\n",
                            "      <td>2.0</td>\n",
                            "      <td>9</td>\n",
                            "      <td>80.0</td>\n",
                            "      <td>0</td>\n",
                            "      <td>0</td>\n",
                            "      <td>0.0</td>\n",
                            "      <td>-3.0</td>\n",
                            "      <td>1999</td>\n",
                            "    </tr>\n",
                            "  </tbody>\n",
                            "</table>\n",
                            "</div>"
                        ],
                        "text/plain": [
                            "  play_type posteam        coach  drive  play_in_drive  qtr  \\\n",
                            "1      pass     PHI    Andy Reid    1.0            1.0    1   \n",
                            "2       run     PHI    Andy Reid    1.0            2.0    1   \n",
                            "4      pass     PHI    Andy Reid    1.0            3.0    1   \n",
                            "6       run     ARI  Vince Tobin    2.0            1.0    1   \n",
                            "7       run     ARI  Vince Tobin    2.0            2.0    1   \n",
                            "\n",
                            "   quarter_seconds_remaining  down  ydstogo  yardline_100  shotgun  no_huddle  \\\n",
                            "1                      900.0   1.0       10          77.0        0          0   \n",
                            "2                      900.0   2.0       10          77.0        0          0   \n",
                            "4                      900.0   3.0       14          81.0        0          0   \n",
                            "6                      787.0   1.0       10          81.0        0          0   \n",
                            "7                      787.0   2.0        9          80.0        0          0   \n",
                            "\n",
                            "   score_differential  spread_line  season  \n",
                            "1                 0.0         -3.0    1999  \n",
                            "2                 0.0         -3.0    1999  \n",
                            "4                 0.0         -3.0    1999  \n",
                            "6                 0.0         -3.0    1999  \n",
                            "7                 0.0         -3.0    1999  "
                        ]
                    },
                    "execution_count": 8,
                    "metadata": {},
                    "output_type": "execute_result"
                }
            ],
            "source": [
                "columns = [\n",
                "    'play_type',\n",
                "    'posteam',\n",
                "    'coach',\n",
                "    'drive',\n",
                "    'play_in_drive',\n",
                "    'qtr',\n",
                "    'quarter_seconds_remaining',\n",
                "    'down',\n",
                "    'ydstogo',\n",
                "    'yardline_100',\n",
                "    'shotgun',\n",
                "    'no_huddle',\n",
                "    'score_differential',\n",
                "    'spread_line',\n",
                "    'season',\n",
                "]\n",
                "\n",
                "final_df = pbp_df.loc[:, columns]\n",
                "final_df = final_df[final_df.qtr <= 5]\n",
                "final_df = final_df.dropna()\n",
                "\n",
                "final_df.head()"
            ]
        },
        {
            "cell_type": "code",
            "execution_count": 9,
            "metadata": {},
            "outputs": [],
            "source": [
                "final_df.to_csv('data/play_by_play_parsed.csv', index=False)"
            ]
        }
    ],
    "metadata": {
        "kernelspec": {
            "display_name": "tensorflow-gpu",
            "language": "python",
            "name": "python3"
        },
        "language_info": {
            "codemirror_mode": {
                "name": "ipython",
                "version": 3
            },
            "file_extension": ".py",
            "mimetype": "text/x-python",
            "name": "python",
            "nbconvert_exporter": "python",
            "pygments_lexer": "ipython3",
            "version": "3.8.19"
        }
    },
    "nbformat": 4,
    "nbformat_minor": 2
}